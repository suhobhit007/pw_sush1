{
 "cells": [
  {
   "cell_type": "markdown",
   "id": "393a1125-2e05-45bb-b014-4fb16d885ddb",
   "metadata": {},
   "source": [
    "Q1. Create one variable containing following type of data:\n",
    "(i) string\n",
    "(ii) list\n",
    "(iii) float\n",
    "(iv) tuple"
   ]
  },
  {
   "cell_type": "code",
   "execution_count": 1,
   "id": "e1ea600e-ef46-4cb1-8de4-3583b9036bd0",
   "metadata": {},
   "outputs": [],
   "source": [
    "var1 = 'variable'"
   ]
  },
  {
   "cell_type": "code",
   "execution_count": 2,
   "id": "ecabb350-36f5-4dda-b75c-68cdddeec32e",
   "metadata": {},
   "outputs": [],
   "source": [
    "var2 = [1,2,3]"
   ]
  },
  {
   "cell_type": "code",
   "execution_count": 3,
   "id": "75c3ab62-55a0-4663-a3ae-7ea4e19b4260",
   "metadata": {},
   "outputs": [],
   "source": [
    "var3 = 3.4"
   ]
  },
  {
   "cell_type": "code",
   "execution_count": null,
   "id": "625d107b-3147-49b6-98cd-96cd4836a7f7",
   "metadata": {},
   "outputs": [],
   "source": [
    "var4 = ( 1, 2, 'str', 3.5)"
   ]
  },
  {
   "cell_type": "markdown",
   "id": "799dc3bd-2430-4200-8a43-75f7258eb655",
   "metadata": {},
   "source": [
    "Q2. Given are some following variables containing data:\n",
    "(i) var1 = ‘ ‘\n",
    "(ii) var2 = ‘[ DS , ML , Python]’\n",
    "(iii) var3 = [ ‘DS’ , ’ML’ , ‘Python’ ]\n",
    "(iv) var4 = 1.\n",
    "What will be the data type of the above given variable."
   ]
  },
  {
   "cell_type": "markdown",
   "id": "1713023d-b8d5-498a-9f6c-66090a904a15",
   "metadata": {},
   "source": [
    "var1 is string\n",
    "var2 is string\n",
    "var3 is string\n",
    "var4 is int"
   ]
  },
  {
   "cell_type": "markdown",
   "id": "1f2e4f3b-602c-4b1a-8950-1e5739b2ca23",
   "metadata": {},
   "source": [
    "Q3. Explain the use of the following operators using an example:\n",
    "(i) /\n",
    "(ii) %\n",
    "(iii) //\n",
    "(iv) **"
   ]
  },
  {
   "cell_type": "markdown",
   "id": "de029975-3bf3-418f-8a86-ec970884f530",
   "metadata": {},
   "source": [
    "/ is  divison with output in float, 4/5= 0.8\n",
    "% is division with remainder as output  4 % 5 = 4\n",
    "// is divison with inetger output(rounded off) 4 // 5 = 0\n",
    "** is power left to  right numner of time.  2**3 = 8"
   ]
  },
  {
   "cell_type": "markdown",
   "id": "faf1779a-bc34-4e36-9c66-088bebf5b437",
   "metadata": {},
   "source": [
    "Q4. Create a list of length 10 of your choice containing multiple types of data. Using for loop print the\n",
    "element and its data type."
   ]
  },
  {
   "cell_type": "code",
   "execution_count": 10,
   "id": "84307c88-af87-4c46-b71e-904c50ca1ab4",
   "metadata": {},
   "outputs": [
    {
     "name": "stdout",
     "output_type": "stream",
     "text": [
      "1 <class 'int'>\n",
      "2 <class 'int'>\n",
      "3 <class 'int'>\n",
      "4 <class 'int'>\n",
      "x <class 'str'>\n",
      "3.4 <class 'float'>\n",
      "(3+4j) <class 'complex'>\n",
      "True <class 'bool'>\n",
      "new <class 'str'>\n",
      "9 <class 'int'>\n",
      "10 <class 'int'>\n"
     ]
    }
   ],
   "source": [
    "list1 = [ 1, 2, 3, 4, 'x', 3.4, 3+4j, True, 'new', 9, 10]\n",
    "for i in list1:\n",
    "    print(i, type(i))"
   ]
  },
  {
   "cell_type": "markdown",
   "id": "b167402b-012b-4507-89f6-36d74719f9bf",
   "metadata": {},
   "source": [
    "Q5. Using a while loop, verify if the number A is purely divisible by number B and if so then how many\n",
    "times it can be divisible."
   ]
  },
  {
   "cell_type": "code",
   "execution_count": 14,
   "id": "04dd37de-d6d3-4728-be2c-33b9357ab3ce",
   "metadata": {},
   "outputs": [
    {
     "name": "stdin",
     "output_type": "stream",
     "text": [
      "enter A: 25\n",
      "enter B: 5\n"
     ]
    },
    {
     "name": "stdout",
     "output_type": "stream",
     "text": [
      "it is divisible 5 times\n"
     ]
    }
   ],
   "source": [
    "a = int(input(\"enter A:\"))\n",
    "b = int(input(\"enter B:\"))\n",
    "if a % b == 0:\n",
    "    print('it is divisible %d times' % (a/b))\n",
    "else:\n",
    "    print(' A not divisible by B')"
   ]
  },
  {
   "cell_type": "markdown",
   "id": "03b54291-2238-49ce-b52d-a155022a219a",
   "metadata": {},
   "source": [
    "Q6. Create a list containing 25 int type data. Using for loop and if-else condition print if the element is\n",
    "divisible by 3 or not."
   ]
  },
  {
   "cell_type": "code",
   "execution_count": 4,
   "id": "719aa0fa-43ed-4ac4-b58b-497fd0a09e08",
   "metadata": {},
   "outputs": [
    {
     "name": "stdout",
     "output_type": "stream",
     "text": [
      "1 is not divisible by 3\n",
      "2 is not divisible by 3\n",
      "3 is divisible by 3\n",
      "4 is not divisible by 3\n",
      "5 is not divisible by 3\n",
      "6 is divisible by 3\n",
      "7 is not divisible by 3\n",
      "8 is not divisible by 3\n",
      "9 is divisible by 3\n",
      "10 is not divisible by 3\n",
      "11 is not divisible by 3\n",
      "12 is divisible by 3\n",
      "13 is not divisible by 3\n",
      "14 is not divisible by 3\n",
      "15 is divisible by 3\n",
      "1 is not divisible by 3\n",
      "6 is divisible by 3\n",
      "17 is not divisible by 3\n",
      "1 is not divisible by 3\n",
      "8 is not divisible by 3\n",
      "19 is not divisible by 3\n",
      "20 is not divisible by 3\n",
      "21 is divisible by 3\n",
      "22 is not divisible by 3\n",
      "23 is not divisible by 3\n",
      "24 is divisible by 3\n",
      "25 is not divisible by 3\n"
     ]
    }
   ],
   "source": [
    "list1 = [1,2,3,4,5,6,7,8,9,10,11,12,13,14,15,1,6,17,1,8,19,20,21,22,23,24,25]\n",
    "for i in list1:\n",
    "    if i % 3 == 0:\n",
    "        print( '%d is divisible by 3' %i)\n",
    "    else:\n",
    "        print( '%d is not divisible by 3' %i)"
   ]
  },
  {
   "cell_type": "code",
   "execution_count": null,
   "id": "5544496a-a48a-4c52-935e-8d2c73ed3b3e",
   "metadata": {},
   "outputs": [],
   "source": [
    "Q7. What do you understand about mutable and immutable data types? Give examples for both showing\n",
    "this property."
   ]
  },
  {
   "cell_type": "code",
   "execution_count": 5,
   "id": "c3a339f9-699e-40cd-b62c-c340fe4b838c",
   "metadata": {},
   "outputs": [
    {
     "data": {
      "text/plain": [
       "[9, 2, 3]"
      ]
     },
     "execution_count": 5,
     "metadata": {},
     "output_type": "execute_result"
    }
   ],
   "source": [
    "list1 = [ 1,2,3]\n",
    "list1[0] = 9\n",
    "list1"
   ]
  },
  {
   "cell_type": "markdown",
   "id": "b4c2ecbc-b711-4367-a948-73b0d776c249",
   "metadata": {},
   "source": [
    "mutable data type is when then the element can be modified, like elements of a list"
   ]
  },
  {
   "cell_type": "code",
   "execution_count": 7,
   "id": "4637efa2-bfa6-40fa-b731-40fba4ba4662",
   "metadata": {},
   "outputs": [
    {
     "data": {
      "text/plain": [
       "1"
      ]
     },
     "execution_count": 7,
     "metadata": {},
     "output_type": "execute_result"
    }
   ],
   "source": [
    "list1 = (1,2,3)\n",
    "list1[0] = 9\n",
    "list1[0]"
   ]
  },
  {
   "cell_type": "code",
   "execution_count": null,
   "id": "b72d4aa7-e79a-46ff-af74-6966c27bda4a",
   "metadata": {},
   "outputs": [],
   "source": [
    "immutable data type when element cannot be modified like tuple"
   ]
  }
 ],
 "metadata": {
  "kernelspec": {
   "display_name": "Python 3 (ipykernel)",
   "language": "python",
   "name": "python3"
  },
  "language_info": {
   "codemirror_mode": {
    "name": "ipython",
    "version": 3
   },
   "file_extension": ".py",
   "mimetype": "text/x-python",
   "name": "python",
   "nbconvert_exporter": "python",
   "pygments_lexer": "ipython3",
   "version": "3.10.8"
  }
 },
 "nbformat": 4,
 "nbformat_minor": 5
}
